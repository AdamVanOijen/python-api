{
 "nbformat": 4,
 "nbformat_minor": 2,
 "metadata": {
  "language_info": {
   "name": "python",
   "codemirror_mode": {
    "name": "ipython",
    "version": 3
   }
  },
  "orig_nbformat": 2,
  "file_extension": ".py",
  "mimetype": "text/x-python",
  "name": "python",
  "npconvert_exporter": "python",
  "pygments_lexer": "ipython3",
  "version": 3
 },
 "cells": [
  {
   "cell_type": "markdown",
   "execution_count": null,
   "metadata": {},
   "outputs": [],
   "source": [
    "# TEST NOTEBOOK for Python REST API client  connect to  Cacophony project server"
   ]
  },
  {
   "cell_type": "markdown",
   "execution_count": null,
   "metadata": {},
   "outputs": [],
   "source": [
    "#### Configuration"
   ]
  },
  {
   "cell_type": "code",
   "execution_count": 9,
   "metadata": {},
   "outputs": [],
   "source": [
    "%load_ext autoreload\n",
    "%autoreload 2\n"
   ]
  },
  {
   "cell_type": "code",
   "execution_count": 10,
   "metadata": {},
   "outputs": [],
   "source": [
    "import logging, sys, os\n",
    "logging.basicConfig(format='%(asctime)s : %(module)s :%(levelname)s : %(message)s', level=logging.DEBUG, stream=sys.stdout)\n",
    "logger = logging.getLogger()\n",
    "logger.setLevel(logging.INFO)\n",
    "logging.info(\"Logging Started ---------------- LEVEL: {} -------------\".format(logging.getLevelName(logger.level)))"
   ]
  },
  {
   "cell_type": "code",
   "execution_count": 11,
   "metadata": {},
   "outputs": [],
   "source": [
    "import json\n",
    "from datetime import datetime\n",
    "import pandas as pd\n",
    "import numpy as np"
   ]
  },
  {
   "cell_type": "code",
   "execution_count": 12,
   "metadata": {},
   "outputs": [],
   "source": [
    "from cacophonyapi.user  import UserAPI\n",
    "from cacophonyapi.config  import Config"
   ]
  },
  {
   "cell_type": "code",
   "execution_count": 13,
   "metadata": {},
   "outputs": [],
   "source": [
    "config=Config().load_config(config_file=os.path.join(os.getcwd(),'.env/defaultconfig.json'))"
   ]
  },
  {
   "cell_type": "code",
   "execution_count": 8,
   "metadata": {},
   "outputs": [],
   "source": [
    "\n",
    "cp_client = UserAPI(baseurl=config.api_url,\n",
    "                   username=config.admin_username,\n",
    "                   password=config.admin_password)\n",
    "cp_client.version()"
   ]
  },
  {
   "cell_type": "markdown",
   "execution_count": null,
   "metadata": {},
   "outputs": [],
   "source": [
    "### SHOW devices and groups"
   ]
  },
  {
   "cell_type": "code",
   "execution_count": 7,
   "metadata": {},
   "outputs": [],
   "source": [
    "pd.DataFrame(cp_client.get_devices_as_json())"
   ]
  },
  {
   "cell_type": "code",
   "execution_count": 13,
   "metadata": {},
   "outputs": [],
   "source": [
    "pd.DataFrame(cp_client.get_groups_as_json()[\"groups\"])"
   ]
  },
  {
   "cell_type": "markdown",
   "execution_count": null,
   "metadata": {},
   "outputs": [],
   "source": [
    "\n",
    "## Define some helper functions\n",
    "\n",
    "    strToSqlDateTime : Generates a datatime object from a string\n",
    "\n",
    "    recordingSubset : Retrieve a subset of dataframe\n",
    "\n",
    "    pandas_df_to_markdown_table : Displays a markdown table from a dataframe\n",
    "    \n",
    "    pandas_df_to_markdown_table : Generates a string representing the markdown table\n",
    "\n"
   ]
  },
  {
   "cell_type": "code",
   "execution_count": 8,
   "metadata": {},
   "outputs": [],
   "source": [
    "strToSqlDateTime = lambda x: datetime.strptime(x, '%Y-%m-%d %H:%M:%S')\n",
    "\n",
    "def recordingSubset(dataframe=None,startDateUTC=None,endDateUTC=None,fields=None):\n",
    "    # fields = [\"recordingDateTime_DT_local\",'recordingURL','comment']\n",
    "    return dataframe[(df.recordingDateTime >= startDateUTC) & (df.recordingDateTime <= endDateUTC)].loc[:,\n",
    "        fields]\n",
    "\n",
    "def pandas_df_to_markdown_table(df,*args,**kwargs):\n",
    "    df['index'] = df.index\n",
    "    if 'columns' not in kwargs:\n",
    "        columns=df.columns.to_list()\n",
    "    else:\n",
    "        columns=['index']+kwargs['columns']\n",
    "\n",
    "    from IPython.display import Markdown, display\n",
    "\n",
    "\n",
    "    fmt = ['---' for i in range(len(df.columns))]\n",
    "    df_fmt = pd.DataFrame([fmt], columns=df.columns)\n",
    "    df_formatted = pd.concat([df_fmt, df])\n",
    "    display(Markdown(df_formatted.loc[:,columns].to_csv(sep=\"|\", index=False)))\n",
    "\n",
    "\n",
    "def pandas_df_to_markdown_table_string(df,*args,**kwargs):\n",
    "    df['index'] = df.index\n",
    "    if 'columns' not in kwargs:\n",
    "        columns=df.columns.to_list()\n",
    "    else:\n",
    "        columns=['index']+kwargs['columns']\n",
    "    from IPython.display import Markdown, display\n",
    "    headers = ['- {} -'.format(col) for i,col in enumerate(df.columns)]\n",
    "    fmt = ['---' for i in range(len(df.columns))]\n",
    "    df_headers = pd.DataFrame([headers], columns=df.columns)\n",
    "    df_fmt = pd.DataFrame([fmt], columns=df.columns)\n",
    "    df_formatted = pd.concat([df_fmt, df])\n",
    "    return df_formatted.loc[:,columns].to_csv(sep=\"|\", index=False)\n"
   ]
  },
  {
   "cell_type": "markdown",
   "execution_count": null,
   "metadata": {},
   "outputs": [],
   "source": [
    "\n",
    "## Query for first 300 recordings\n",
    "\n"
   ]
  },
  {
   "cell_type": "code",
   "execution_count": 9,
   "metadata": {},
   "outputs": [],
   "source": [
    "queryResponse=cp_client.query(endDate=strToSqlDateTime(\"2019-11-06 06:30:00\"),startDate=strToSqlDateTime(\"2019-11-01 19:00:00\"),limit=300,offset=0,tagmode=\"any\")\n",
    "df = pd.DataFrame(queryResponse)"
   ]
  },
  {
   "cell_type": "code",
   "execution_count": 10,
   "metadata": {},
   "outputs": [],
   "source": [
    "\n",
    "df.columns"
   ]
  },
  {
   "cell_type": "code",
   "execution_count": 11,
   "metadata": {},
   "outputs": [],
   "source": [
    "pd.options.display.html.table_schema = True\n",
    "pd.options.display.max_rows = None\n",
    "from IPython.display import HTML"
   ]
  },
  {
   "cell_type": "markdown",
   "execution_count": null,
   "metadata": {},
   "outputs": [],
   "source": [
    "### Format the Data"
   ]
  },
  {
   "cell_type": "code",
   "execution_count": 12,
   "metadata": {},
   "outputs": [],
   "source": [
    "df['recordingDateTime_DT'] = pd.to_datetime(df['recordingDateTime'])\n",
    "df['Date']=df['recordingDateTime_DT'].dt.date # TODO: Check where we are using this\n",
    "df['recordingDateTime_DT_local'] = df['recordingDateTime_DT'].dt.tz_convert('Pacific/Auckland').dt.strftime('%Y/%m/%d %H:%M:%S')\n",
    "df['recordingURL']=df['id'].apply(lambda id: '<a href=\"https://browse.cacophony.org.nz/recording/{id}\">{id}</a>'.format(id=id))\n",
    "df['recordingURLmd']=df['id'].apply(lambda id: '[{id}](https://browse.cacophony.org.nz/recording/{id})'.format(id=id))\n",
    "\n",
    "\n",
    "df['metric_recordingCount']=1\n",
    "df['metric_gainIssueTrue'] = (df.comment.str.contains('[G|g]ain')==True).apply(lambda x: 1 if x else 0)\n",
    "df['metric_gainIssueTrue'] = (df.comment.str.contains('(?i)[G|g]ain')==True).apply(lambda x: 1 if x else 0)\n",
    "\n",
    "df['metric_gainIssueFalse']= ((df.comment.str.contains('[G|g]ain')!=True ) | (df.comment.isnull())).apply(lambda x: 1 if x else 0)\n",
    "df['metric_otherComment']= ((df.comment.str.contains('[G|g]ain')!=True ) & (~df.comment.isnull())).apply(lambda x: 1 if x else 0)\n"
   ]
  },
  {
   "cell_type": "markdown",
   "execution_count": null,
   "metadata": {},
   "outputs": [],
   "source": [
    "# EXAMPLES \n",
    "\n",
    "exaples of various queries\n"
   ]
  },
  {
   "cell_type": "code",
   "execution_count": 13,
   "metadata": {},
   "outputs": [],
   "source": [
    "HTML(recordingSubset(df, '2019-11-04T06:00Z','2019-11-04T21:00Z',[\"recordingDateTime_DT_local\",'recordingURL','comment'] ).to_html(escape=False))\n"
   ]
  },
  {
   "cell_type": "code",
   "execution_count": 14,
   "metadata": {},
   "outputs": [],
   "source": [
    "doi='2019-11-05'\n",
    "pandas_df_to_markdown_table(recordingSubset(df[df.metric_gainIssueTrue==1],\n",
    "         '{}T06:00Z'.format(doi),'{}T21:00Z'.format(doi),[\"recordingDateTime_DT_local\",'recordingURLmd','comment']))"
   ]
  },
  {
   "cell_type": "code",
   "execution_count": 15,
   "metadata": {},
   "outputs": [],
   "source": [
    "# df.groupby(by=df['recordingDateTime_DT'].dt.date).sum()\n",
    "dfp=pd.pivot_table(df, index=['Date'],values=['metric_recordingCount','metric_gainIssueTrue','metric_gainIssueFalse','metric_otherComment'],aggfunc=np.sum)\n",
    "# dfp\n",
    "\n",
    "dfp['percentGainIssueTrue'] = (dfp.metric_gainIssueTrue/dfp.metric_recordingCount*100.0).map('{0:,.2f}%'.format)\n",
    "dfp.loc[:,['percentGainIssueTrue','metric_recordingCount','metric_gainIssueTrue','metric_gainIssueFalse','metric_otherComment']]\n",
    "pandas_df_to_markdown_table(dfp,columns=['percentGainIssueTrue','metric_recordingCount','metric_gainIssueTrue','metric_gainIssueFalse','metric_otherComment'])\n",
    "\n"
   ]
  },
  {
   "cell_type": "code",
   "execution_count": 16,
   "metadata": {},
   "outputs": [],
   "source": [
    "print(pandas_df_to_markdown_table_string(dfp,columns=['percentGainIssueTrue','metric_recordingCount','metric_gainIssueTrue','metric_gainIssueFalse','metric_otherComment']))\n"
   ]
  },
  {
   "cell_type": "code",
   "execution_count": null,
   "metadata": {},
   "outputs": [],
   "source": []
  }
 ]
}